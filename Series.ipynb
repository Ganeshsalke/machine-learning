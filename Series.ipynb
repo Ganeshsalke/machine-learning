{
 "cells": [
  {
   "cell_type": "code",
   "execution_count": 1,
   "id": "7231cb99",
   "metadata": {},
   "outputs": [],
   "source": [
    "#pandas-:pandas is a datastrure. it analysis of data and perfrom appliction on that it callled as pandas.\n",
    "#series\n",
    "#missing value\n",
    "#groupBy\n",
    "#merging,joining concatinating\n",
    "#oprations\n",
    "#data input and output"
   ]
  },
  {
   "cell_type": "code",
   "execution_count": 13,
   "id": "2cb4dc0c",
   "metadata": {},
   "outputs": [],
   "source": [
    "import numpy as np\n",
    "import pandas as pd\n"
   ]
  },
  {
   "cell_type": "code",
   "execution_count": 14,
   "id": "1a369c0c",
   "metadata": {},
   "outputs": [],
   "source": [
    "from numpy.random import randn"
   ]
  },
  {
   "cell_type": "code",
   "execution_count": 15,
   "id": "aa6ffba2",
   "metadata": {},
   "outputs": [],
   "source": [
    "my_list=['gana','athavr',\"shubh\"]\n",
    "dic={\n",
    "    'A':10,\n",
    "    'B':20,\n",
    "    'C':30,\n",
    "}\n",
    "labels=['a','b','c']"
   ]
  },
  {
   "cell_type": "code",
   "execution_count": 16,
   "id": "09626e61",
   "metadata": {},
   "outputs": [
    {
     "data": {
      "text/plain": [
       "['gana', 'athavr', 'shubh']"
      ]
     },
     "execution_count": 16,
     "metadata": {},
     "output_type": "execute_result"
    }
   ],
   "source": [
    "my_list\n"
   ]
  },
  {
   "cell_type": "code",
   "execution_count": 17,
   "id": "f5cf613e",
   "metadata": {},
   "outputs": [
    {
     "data": {
      "text/plain": [
       "{'A': 10, 'B': 20, 'C': 30}"
      ]
     },
     "execution_count": 17,
     "metadata": {},
     "output_type": "execute_result"
    }
   ],
   "source": [
    "dic"
   ]
  },
  {
   "cell_type": "code",
   "execution_count": 18,
   "id": "ba4f733e",
   "metadata": {},
   "outputs": [
    {
     "data": {
      "text/plain": [
       "0      gana\n",
       "1    athavr\n",
       "2     shubh\n",
       "dtype: object"
      ]
     },
     "execution_count": 18,
     "metadata": {},
     "output_type": "execute_result"
    }
   ],
   "source": [
    "pd.Series(data=my_list)"
   ]
  },
  {
   "cell_type": "code",
   "execution_count": 19,
   "id": "cb8dcc8b",
   "metadata": {},
   "outputs": [
    {
     "data": {
      "text/plain": [
       "a      gana\n",
       "b    athavr\n",
       "c     shubh\n",
       "dtype: object"
      ]
     },
     "execution_count": 19,
     "metadata": {},
     "output_type": "execute_result"
    }
   ],
   "source": [
    "pd.Series(data=my_list,index=labels)"
   ]
  },
  {
   "cell_type": "code",
   "execution_count": 25,
   "id": "6503c64b",
   "metadata": {},
   "outputs": [
    {
     "data": {
      "text/plain": [
       "A    10\n",
       "B    20\n",
       "C    30\n",
       "dtype: int64"
      ]
     },
     "execution_count": 25,
     "metadata": {},
     "output_type": "execute_result"
    }
   ],
   "source": [
    "pd.Series(dic)"
   ]
  },
  {
   "cell_type": "code",
   "execution_count": 26,
   "id": "b1f9068a",
   "metadata": {},
   "outputs": [],
   "source": [
    "ser=pd.Series([1,2,3])"
   ]
  },
  {
   "cell_type": "code",
   "execution_count": 27,
   "id": "818d3e9c",
   "metadata": {},
   "outputs": [
    {
     "data": {
      "text/plain": [
       "0    1\n",
       "1    2\n",
       "2    3\n",
       "dtype: int64"
      ]
     },
     "execution_count": 27,
     "metadata": {},
     "output_type": "execute_result"
    }
   ],
   "source": [
    "ser\n"
   ]
  },
  {
   "cell_type": "code",
   "execution_count": 28,
   "id": "2094591e",
   "metadata": {},
   "outputs": [
    {
     "data": {
      "text/plain": [
       "a   NaN\n",
       "b   NaN\n",
       "c   NaN\n",
       "dtype: float64"
      ]
     },
     "execution_count": 28,
     "metadata": {},
     "output_type": "execute_result"
    }
   ],
   "source": [
    "pd.Series(data=ser,index=labels)"
   ]
  },
  {
   "cell_type": "code",
   "execution_count": 29,
   "id": "8dc94041",
   "metadata": {},
   "outputs": [],
   "source": [
    "ser1=pd.Series([1,2,3,4],('PUNE','INDEX','MUMBAI','ITLEY'))"
   ]
  },
  {
   "cell_type": "code",
   "execution_count": 30,
   "id": "8b9df70e",
   "metadata": {},
   "outputs": [
    {
     "data": {
      "text/plain": [
       "PUNE      1\n",
       "INDEX     2\n",
       "MUMBAI    3\n",
       "ITLEY     4\n",
       "dtype: int64"
      ]
     },
     "execution_count": 30,
     "metadata": {},
     "output_type": "execute_result"
    }
   ],
   "source": [
    "ser1"
   ]
  },
  {
   "cell_type": "code",
   "execution_count": 32,
   "id": "713cea3e",
   "metadata": {},
   "outputs": [],
   "source": [
    "ser2=pd.Series([1,2,3,4],('PUNE','INDEX','GERMEY','ITLEY'))"
   ]
  },
  {
   "cell_type": "code",
   "execution_count": 51,
   "id": "295a33aa",
   "metadata": {},
   "outputs": [
    {
     "data": {
      "text/plain": [
       "PUNE      1\n",
       "INDEX     2\n",
       "GERMEY    3\n",
       "ITLEY     4\n",
       "dtype: int64"
      ]
     },
     "execution_count": 51,
     "metadata": {},
     "output_type": "execute_result"
    }
   ],
   "source": [
    "ser2"
   ]
  },
  {
   "cell_type": "code",
   "execution_count": 52,
   "id": "e00abb5c",
   "metadata": {},
   "outputs": [
    {
     "data": {
      "text/plain": [
       "GERMEY    NaN\n",
       "INDEX     4.0\n",
       "ITLEY     8.0\n",
       "MUMBAI    NaN\n",
       "PUNE      2.0\n",
       "dtype: float64"
      ]
     },
     "execution_count": 52,
     "metadata": {},
     "output_type": "execute_result"
    }
   ],
   "source": [
    "ser1+ser2"
   ]
  },
  {
   "cell_type": "code",
   "execution_count": null,
   "id": "8e37e31b",
   "metadata": {},
   "outputs": [],
   "source": []
  }
 ],
 "metadata": {
  "kernelspec": {
   "display_name": "Python 3 (ipykernel)",
   "language": "python",
   "name": "python3"
  },
  "language_info": {
   "codemirror_mode": {
    "name": "ipython",
    "version": 3
   },
   "file_extension": ".py",
   "mimetype": "text/x-python",
   "name": "python",
   "nbconvert_exporter": "python",
   "pygments_lexer": "ipython3",
   "version": "3.11.5"
  }
 },
 "nbformat": 4,
 "nbformat_minor": 5
}
